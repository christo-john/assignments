{
 "cells": [
  {
   "cell_type": "markdown",
   "id": "840d4ff9-9f8e-4882-b8f8-be149459a4d3",
   "metadata": {
    "tags": []
   },
   "source": [
    "<h1>My Jupyter Notebook on IBM Watson Studio</h1>"
   ]
  },
  {
   "cell_type": "markdown",
   "id": "63924232-8b56-4547-8d00-6c3ee0968601",
   "metadata": {},
   "source": [
    "<strong>CHRISTO V JOHN</strong>\n",
    "<p>software developer</p>"
   ]
  },
  {
   "cell_type": "markdown",
   "id": "6318cf22-124f-468b-ad27-90137f1b4e74",
   "metadata": {},
   "source": [
    "<em>I am interested in data science because,scope for data science increasing day by day and we can contribute something good to your society through this field</em>"
   ]
  },
  {
   "cell_type": "markdown",
   "id": "b7236c73-df81-4960-accc-85bbbaffed4c",
   "metadata": {},
   "source": [
    "<h3>print addition of two numbers</h3>"
   ]
  },
  {
   "cell_type": "code",
   "execution_count": 1,
   "id": "b93006b8-1196-4291-8256-afe1d5017454",
   "metadata": {},
   "outputs": [
    {
     "name": "stdin",
     "output_type": "stream",
     "text": [
      "enter the first digit A  5\n",
      "enter the second digit B  6\n"
     ]
    },
    {
     "name": "stdout",
     "output_type": "stream",
     "text": [
      "sum of A&B= 11\n"
     ]
    }
   ],
   "source": [
    "a = int(input(\"enter the first digit A \"))\n",
    "b = int(input(\"enter the second digit B \"))\n",
    "c = a+b\n",
    "print(\"sum of A&B=\", c)\n"
   ]
  },
  {
   "cell_type": "markdown",
   "id": "ec871c1d-abe1-46f1-828b-a0c374339472",
   "metadata": {},
   "source": [
    "<hr></hr>"
   ]
  },
  {
   "cell_type": "markdown",
   "id": "96f421f0-924a-46a7-bc46-0a5d76a6761b",
   "metadata": {},
   "source": [
    "<ul>\n",
    "    <li>hai</li>\n",
    "    <li>hello</li>\n",
    "    <li>how are you</li>\n",
    "</ul>"
   ]
  },
  {
   "cell_type": "code",
   "execution_count": null,
   "id": "6209d4ad-262d-49a2-b174-4d66b3073a36",
   "metadata": {},
   "outputs": [],
   "source": [
    "<ol>\n"
   ]
  }
 ],
 "metadata": {
  "kernelspec": {
   "display_name": "Python",
   "language": "python",
   "name": "conda-env-python-py"
  },
  "language_info": {
   "codemirror_mode": {
    "name": "ipython",
    "version": 3
   },
   "file_extension": ".py",
   "mimetype": "text/x-python",
   "name": "python",
   "nbconvert_exporter": "python",
   "pygments_lexer": "ipython3",
   "version": "3.7.12"
  }
 },
 "nbformat": 4,
 "nbformat_minor": 5
}
